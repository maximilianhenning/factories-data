{
 "cells": [
  {
   "cell_type": "code",
   "execution_count": 1,
   "id": "8a3b36c6",
   "metadata": {},
   "outputs": [],
   "source": [
    "import pandas as pd"
   ]
  },
  {
   "cell_type": "code",
   "execution_count": 32,
   "id": "4e344ff6",
   "metadata": {},
   "outputs": [],
   "source": [
    "df = pd.read_csv(\"data.csv\", sep = \";\", encoding = \"utf-8\")"
   ]
  },
  {
   "cell_type": "code",
   "execution_count": 33,
   "id": "bab8e36f",
   "metadata": {},
   "outputs": [
    {
     "name": "stdout",
     "output_type": "stream",
     "text": [
      "8110\n"
     ]
    }
   ],
   "source": [
    "print(len(df.index))"
   ]
  },
  {
   "cell_type": "code",
   "execution_count": 34,
   "id": "95e44efc",
   "metadata": {},
   "outputs": [
    {
     "data": {
      "text/plain": [
       "China                 3387\n",
       "India                 1001\n",
       "Turkey                 695\n",
       "Vietnam                628\n",
       "Bangladesh             579\n",
       "Indonesia              280\n",
       "Cambodia               263\n",
       "Mexico                 211\n",
       "Sri Lanka              202\n",
       "Korea, Republic of     177\n",
       "Pakistan               134\n",
       "Thailand               111\n",
       "Myanmar                106\n",
       "Taiwan, China           87\n",
       "Egypt                   43\n",
       "Tunisia                 39\n",
       "Philippines             33\n",
       "Guatemala               31\n",
       "Morocco                 27\n",
       "Malaysia                25\n",
       "El Salvador             20\n",
       "Honduras                15\n",
       "Ethiopia                11\n",
       "Peru                     4\n",
       "Singapore                1\n",
       "Name: countrycode, dtype: int64"
      ]
     },
     "execution_count": 34,
     "metadata": {},
     "output_type": "execute_result"
    }
   ],
   "source": [
    "df[\"countrycode\"].value_counts()"
   ]
  },
  {
   "cell_type": "code",
   "execution_count": 35,
   "id": "11dfb535",
   "metadata": {},
   "outputs": [
    {
     "data": {
      "text/plain": [
       "China                      2865\n",
       "India                      1006\n",
       "Turkey                      693\n",
       "Hong Kong, China            633\n",
       "Bangladesh                  469\n",
       "Korea, Republic of          415\n",
       "Taiwan, China               302\n",
       "Vietnam                     294\n",
       "Sri Lanka                   185\n",
       "Mexico                      173\n",
       "Indonesia                   162\n",
       "United States               147\n",
       "Pakistan                    130\n",
       "Thailand                     86\n",
       "Singapore                    56\n",
       "Malaysia                     44\n",
       "United Kingdom               42\n",
       "Japan                        38\n",
       "Egypt                        34\n",
       "Morocco                      24\n",
       "Tunisia                      23\n",
       "Virgin Islands, British      20\n",
       "Philippines                  19\n",
       "United Arab Emirates         19\n",
       "Guatemala                    19\n",
       "Myanmar                      16\n",
       "Cambodia                     15\n",
       "El Salvador                  10\n",
       "Germany                       9\n",
       "1021                          8\n",
       "Name: country_parent_num, dtype: int64"
      ]
     },
     "execution_count": 35,
     "metadata": {},
     "output_type": "execute_result"
    }
   ],
   "source": [
    "df[\"country_parent_num\"].value_counts()[:30]"
   ]
  },
  {
   "cell_type": "code",
   "execution_count": 36,
   "id": "4d4cef76",
   "metadata": {},
   "outputs": [
    {
     "data": {
      "text/plain": [
       "9552500.0"
      ]
     },
     "execution_count": 36,
     "metadata": {},
     "output_type": "execute_result"
    }
   ],
   "source": [
    "workers_total = 0\n",
    "for column in df.columns:\n",
    "    if \"b\" in column and \"_\" in column and not \"DICH\" in column:\n",
    "        workers_list = df.loc[df[column].notna()][column].tolist()\n",
    "        for factory in workers_list:\n",
    "            workers_total += factory\n",
    "workers_total"
   ]
  },
  {
   "cell_type": "code",
   "execution_count": null,
   "id": "930872e0",
   "metadata": {},
   "outputs": [],
   "source": []
  }
 ],
 "metadata": {
  "kernelspec": {
   "display_name": "Python 3 (ipykernel)",
   "language": "python",
   "name": "python3"
  },
  "language_info": {
   "codemirror_mode": {
    "name": "ipython",
    "version": 3
   },
   "file_extension": ".py",
   "mimetype": "text/x-python",
   "name": "python",
   "nbconvert_exporter": "python",
   "pygments_lexer": "ipython3",
   "version": "3.9.12"
  }
 },
 "nbformat": 4,
 "nbformat_minor": 5
}
